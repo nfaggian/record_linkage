{
 "cells": [
  {
   "cell_type": "markdown",
   "metadata": {
    "colab_type": "text",
    "id": "view-in-github"
   },
   "source": [
    "<a href=\"https://colab.research.google.com/github/nfaggian/record_linkage/blob/master/clustering.ipynb\" target=\"_parent\"><img src=\"https://colab.research.google.com/assets/colab-badge.svg\" alt=\"Open In Colab\"/></a>"
   ]
  },
  {
   "cell_type": "markdown",
   "metadata": {
    "colab_type": "text",
    "id": "kqsqWhzF7-Wv"
   },
   "source": [
    "# Record linkage : Clustering"
   ]
  },
  {
   "cell_type": "code",
   "execution_count": 220,
   "metadata": {
    "colab": {
     "base_uri": "https://localhost:8080/",
     "height": 207
    },
    "colab_type": "code",
    "id": "ctcFUIaQhhit",
    "outputId": "86dfe6be-e0e1-414d-e5ea-cb952471e095"
   },
   "outputs": [],
   "source": [
    "%%capture dependency_log\n",
    "!pip install jellyfish tqdm matplotlib"
   ]
  },
  {
   "cell_type": "code",
   "execution_count": 2,
   "metadata": {
    "colab": {},
    "colab_type": "code",
    "id": "3fgf52PpvlYX"
   },
   "outputs": [],
   "source": [
    "import numpy as np\n",
    "import pandas as pd\n",
    "import tqdm\n",
    "import uuid\n",
    "import jellyfish as jf\n",
    "import matplotlib.pyplot as plt\n",
    "import seaborn as sns\n",
    "\n",
    "from IPython.display import HTML, display, clear_output"
   ]
  },
  {
   "cell_type": "markdown",
   "metadata": {
    "colab_type": "text",
    "id": "tBYoDfVO0CZL"
   },
   "source": [
    "## GCP authentication\n",
    "- - - "
   ]
  },
  {
   "cell_type": "code",
   "execution_count": 3,
   "metadata": {
    "colab": {
     "base_uri": "https://localhost:8080/",
     "height": 34
    },
    "colab_type": "code",
    "id": "jn-bjFhHzgP2",
    "outputId": "b29c129e-b488-4a6c-cf8a-2bf2f5229049"
   },
   "outputs": [
    {
     "name": "stderr",
     "output_type": "stream",
     "text": [
      "/home/nfaggian/development/miniconda/envs/py3/lib/python3.7/site-packages/google/auth/_default.py:66: UserWarning: Your application has authenticated using end user credentials from Google Cloud SDK. We recommend that most server applications use service accounts instead. If your application continues to use end user credentials from Cloud SDK, you might receive a \"quota exceeded\" or \"API not enabled\" error. For more information about service accounts, see https://cloud.google.com/docs/authentication/\n",
      "  warnings.warn(_CLOUD_SDK_CREDENTIALS_WARNING)\n"
     ]
    }
   ],
   "source": [
    "try: \n",
    "    from google.colab import auth\n",
    "    auth.authenticate_user()\n",
    "except:     \n",
    "    try:\n",
    "        import google.auth\n",
    "        credentials, project = google.auth.default()\n",
    "    except:\n",
    "        raise Exception('Google cloud authentication required!')"
   ]
  },
  {
   "cell_type": "code",
   "execution_count": 4,
   "metadata": {},
   "outputs": [
    {
     "name": "stdout",
     "output_type": "stream",
     "text": [
      "env: GOOGLE_CLOUD_PROJECT=anz-pso-nfaggian\n"
     ]
    }
   ],
   "source": [
    "%env GOOGLE_CLOUD_PROJECT=anz-pso-nfaggian\n",
    "\n",
    "project_id = 'anz-pso-nfaggian'"
   ]
  },
  {
   "cell_type": "markdown",
   "metadata": {
    "colab_type": "text",
    "id": "IRIu2CAk8KQZ"
   },
   "source": [
    "## Retrieve donor and contributions data"
   ]
  },
  {
   "cell_type": "code",
   "execution_count": 5,
   "metadata": {
    "colab": {
     "base_uri": "https://localhost:8080/",
     "height": 306
    },
    "colab_type": "code",
    "id": "keNF---YzgRN",
    "outputId": "c690f7b0-1f3a-40c2-e6bf-dcbec3436ca3"
   },
   "outputs": [
    {
     "name": "stderr",
     "output_type": "stream",
     "text": [
      "/home/nfaggian/development/miniconda/envs/py3/lib/python3.7/site-packages/google/auth/_default.py:66: UserWarning: Your application has authenticated using end user credentials from Google Cloud SDK. We recommend that most server applications use service accounts instead. If your application continues to use end user credentials from Cloud SDK, you might receive a \"quota exceeded\" or \"API not enabled\" error. For more information about service accounts, see https://cloud.google.com/docs/authentication/\n",
      "  warnings.warn(_CLOUD_SDK_CREDENTIALS_WARNING)\n"
     ]
    },
    {
     "name": "stdout",
     "output_type": "stream",
     "text": [
      "(726, 10)\n"
     ]
    },
    {
     "data": {
      "text/html": [
       "<div>\n",
       "<style scoped>\n",
       "    .dataframe tbody tr th:only-of-type {\n",
       "        vertical-align: middle;\n",
       "    }\n",
       "\n",
       "    .dataframe tbody tr th {\n",
       "        vertical-align: top;\n",
       "    }\n",
       "\n",
       "    .dataframe thead th {\n",
       "        text-align: right;\n",
       "    }\n",
       "</style>\n",
       "<table border=\"1\" class=\"dataframe\">\n",
       "  <thead>\n",
       "    <tr style=\"text-align: right;\">\n",
       "      <th></th>\n",
       "      <th>donor_id</th>\n",
       "      <th>last_name</th>\n",
       "      <th>first_name</th>\n",
       "      <th>address_1</th>\n",
       "      <th>address_2</th>\n",
       "      <th>city</th>\n",
       "      <th>state</th>\n",
       "      <th>zip</th>\n",
       "      <th>employer</th>\n",
       "      <th>occupation</th>\n",
       "    </tr>\n",
       "  </thead>\n",
       "  <tbody>\n",
       "    <tr>\n",
       "      <th>220</th>\n",
       "      <td>404</td>\n",
       "      <td>1-28-07 cash deposits</td>\n",
       "      <td>None</td>\n",
       "      <td>None</td>\n",
       "      <td>None</td>\n",
       "      <td>None</td>\n",
       "      <td>il</td>\n",
       "      <td>None</td>\n",
       "      <td>None</td>\n",
       "      <td>None</td>\n",
       "    </tr>\n",
       "    <tr>\n",
       "      <th>548</th>\n",
       "      <td>422</td>\n",
       "      <td>12 congressional district afl-cio cope cont. fund</td>\n",
       "      <td>None</td>\n",
       "      <td>59 magnolia dr.</td>\n",
       "      <td>None</td>\n",
       "      <td>belleville</td>\n",
       "      <td>il</td>\n",
       "      <td>62221</td>\n",
       "      <td>None</td>\n",
       "      <td>None</td>\n",
       "    </tr>\n",
       "    <tr>\n",
       "      <th>295</th>\n",
       "      <td>616</td>\n",
       "      <td>1420 west lexington partnership</td>\n",
       "      <td>None</td>\n",
       "      <td>1420 west lexington partnership</td>\n",
       "      <td>None</td>\n",
       "      <td>chicago</td>\n",
       "      <td>il</td>\n",
       "      <td>60607</td>\n",
       "      <td>None</td>\n",
       "      <td>None</td>\n",
       "    </tr>\n",
       "    <tr>\n",
       "      <th>309</th>\n",
       "      <td>988</td>\n",
       "      <td>18th ward democratic org</td>\n",
       "      <td>None</td>\n",
       "      <td>8150 s kedzie ave</td>\n",
       "      <td>None</td>\n",
       "      <td>chicago</td>\n",
       "      <td>il</td>\n",
       "      <td>60652</td>\n",
       "      <td>None</td>\n",
       "      <td>None</td>\n",
       "    </tr>\n",
       "    <tr>\n",
       "      <th>300</th>\n",
       "      <td>2158</td>\n",
       "      <td>35th &amp; indiana currency exchange</td>\n",
       "      <td>None</td>\n",
       "      <td>126 e. 35th street</td>\n",
       "      <td>None</td>\n",
       "      <td>chicago</td>\n",
       "      <td>il</td>\n",
       "      <td>60616</td>\n",
       "      <td>None</td>\n",
       "      <td>None</td>\n",
       "    </tr>\n",
       "  </tbody>\n",
       "</table>\n",
       "</div>"
      ],
      "text/plain": [
       "     donor_id                                          last_name first_name  \\\n",
       "220       404                              1-28-07 cash deposits       None   \n",
       "548       422  12 congressional district afl-cio cope cont. fund       None   \n",
       "295       616                    1420 west lexington partnership       None   \n",
       "309       988                           18th ward democratic org       None   \n",
       "300      2158                   35th & indiana currency exchange       None   \n",
       "\n",
       "                           address_1 address_2        city state    zip  \\\n",
       "220                             None      None        None    il   None   \n",
       "548                  59 magnolia dr.      None  belleville    il  62221   \n",
       "295  1420 west lexington partnership      None     chicago    il  60607   \n",
       "309                8150 s kedzie ave      None     chicago    il  60652   \n",
       "300               126 e. 35th street      None     chicago    il  60616   \n",
       "\n",
       "    employer occupation  \n",
       "220     None       None  \n",
       "548     None       None  \n",
       "295     None       None  \n",
       "309     None       None  \n",
       "300     None       None  "
      ]
     },
     "execution_count": 5,
     "metadata": {},
     "output_type": "execute_result"
    }
   ],
   "source": [
    "query = f\"\"\"\n",
    "SELECT\n",
    "  * \n",
    "FROM\n",
    "  dedup.donors\n",
    "WHERE MOD(ABS(FARM_FINGERPRINT(CAST(donor_id AS STRING))), 1000) = 0\n",
    "\"\"\"\n",
    "\n",
    "raw_donors = pd.io.gbq.read_gbq(query, project_id=project_id, dialect='standard')\n",
    "raw_donors = raw_donors.sort_values(by='donor_id')\n",
    "print(raw_donors.shape)\n",
    "raw_donors.head()"
   ]
  },
  {
   "cell_type": "code",
   "execution_count": 221,
   "metadata": {
    "colab": {
     "base_uri": "https://localhost:8080/",
     "height": 292
    },
    "colab_type": "code",
    "id": "JR-NjblDDCJ9",
    "outputId": "3b7aeb5c-65aa-4d8d-a834-70496da5d6ce"
   },
   "outputs": [
    {
     "data": {
      "text/html": [
       "<div>\n",
       "<style scoped>\n",
       "    .dataframe tbody tr th:only-of-type {\n",
       "        vertical-align: middle;\n",
       "    }\n",
       "\n",
       "    .dataframe tbody tr th {\n",
       "        vertical-align: top;\n",
       "    }\n",
       "\n",
       "    .dataframe thead th {\n",
       "        text-align: right;\n",
       "    }\n",
       "</style>\n",
       "<table border=\"1\" class=\"dataframe\">\n",
       "  <thead>\n",
       "    <tr style=\"text-align: right;\">\n",
       "      <th></th>\n",
       "      <th>donor_id</th>\n",
       "      <th>amount</th>\n",
       "    </tr>\n",
       "  </thead>\n",
       "  <tbody>\n",
       "    <tr>\n",
       "      <th>1483</th>\n",
       "      <td>404</td>\n",
       "      <td>129.0</td>\n",
       "    </tr>\n",
       "    <tr>\n",
       "      <th>543</th>\n",
       "      <td>422</td>\n",
       "      <td>300.0</td>\n",
       "    </tr>\n",
       "    <tr>\n",
       "      <th>879</th>\n",
       "      <td>616</td>\n",
       "      <td>600.0</td>\n",
       "    </tr>\n",
       "    <tr>\n",
       "      <th>346</th>\n",
       "      <td>988</td>\n",
       "      <td>200.0</td>\n",
       "    </tr>\n",
       "    <tr>\n",
       "      <th>1052</th>\n",
       "      <td>2158</td>\n",
       "      <td>500.0</td>\n",
       "    </tr>\n",
       "  </tbody>\n",
       "</table>\n",
       "</div>"
      ],
      "text/plain": [
       "      donor_id  amount\n",
       "1483       404   129.0\n",
       "543        422   300.0\n",
       "879        616   600.0\n",
       "346        988   200.0\n",
       "1052      2158   500.0"
      ]
     },
     "execution_count": 221,
     "metadata": {},
     "output_type": "execute_result"
    }
   ],
   "source": [
    "query = f\"\"\"\n",
    "SELECT\n",
    "  donor_id, amount\n",
    "FROM\n",
    "  dedup.contributions\n",
    "WHERE MOD(ABS(FARM_FINGERPRINT(CAST(donor_id AS STRING))), 1000) = 0\n",
    "\"\"\"\n",
    "\n",
    "raw_donations = pd.io.gbq.read_gbq(query, project_id=project_id, dialect='standard')\n",
    "raw_donations = raw_donations.sort_values(by='donor_id')\n",
    "raw_donations.head()"
   ]
  },
  {
   "cell_type": "markdown",
   "metadata": {
    "colab_type": "text",
    "id": "M3S1Od7i1XLi"
   },
   "source": [
    "**Data preperation**\n",
    "- - - "
   ]
  },
  {
   "cell_type": "code",
   "execution_count": 7,
   "metadata": {
    "colab": {},
    "colab_type": "code",
    "id": "V81zNQQbhrjZ"
   },
   "outputs": [],
   "source": [
    "def transform(record):\n",
    "  \"\"\"\n",
    "  Perform some simple transformations on the record.\n",
    "  \"\"\"\n",
    "  \n",
    "  # combine the first and last name\n",
    "  return {\n",
    "      'donor_id': record.donor_id,\n",
    "          'city': f\"{record.city or ' '}\".strip().lower(),\n",
    "          'name': f\"{record.first_name or ' '} {record.last_name or ' '}\".strip().lower(),\n",
    "       'address': f\"{record.address_1 or ' '} {record.address_2 or ' '}\".strip().lower(), \n",
    "         'state': f\"{record.state or ' '}\".strip().lower(),\n",
    "           'zip': f\"{record.zip or ' '}\".strip().lower(),\n",
    "    'occupation': f\"{record.occupation or ' '}\".strip().lower(),\n",
    "      'employer': f\"{record.employer or ' '}\".strip().lower(),\n",
    "     'is_person': record.first_name is not None }"
   ]
  },
  {
   "cell_type": "code",
   "execution_count": 8,
   "metadata": {
    "colab": {
     "base_uri": "https://localhost:8080/",
     "height": 255
    },
    "colab_type": "code",
    "id": "6znMtqIlwaNO",
    "outputId": "247b39cd-cf7a-40d1-ddb4-867fdd27a35f"
   },
   "outputs": [
    {
     "name": "stderr",
     "output_type": "stream",
     "text": [
      "100%|██████████| 726/726 [00:00<00:00, 2161.46it/s]\n"
     ]
    },
    {
     "data": {
      "text/html": [
       "<div>\n",
       "<style scoped>\n",
       "    .dataframe tbody tr th:only-of-type {\n",
       "        vertical-align: middle;\n",
       "    }\n",
       "\n",
       "    .dataframe tbody tr th {\n",
       "        vertical-align: top;\n",
       "    }\n",
       "\n",
       "    .dataframe thead th {\n",
       "        text-align: right;\n",
       "    }\n",
       "</style>\n",
       "<table border=\"1\" class=\"dataframe\">\n",
       "  <thead>\n",
       "    <tr style=\"text-align: right;\">\n",
       "      <th></th>\n",
       "      <th>address</th>\n",
       "      <th>city</th>\n",
       "      <th>donor_id</th>\n",
       "      <th>employer</th>\n",
       "      <th>is_person</th>\n",
       "      <th>name</th>\n",
       "      <th>occupation</th>\n",
       "      <th>state</th>\n",
       "      <th>zip</th>\n",
       "    </tr>\n",
       "  </thead>\n",
       "  <tbody>\n",
       "    <tr>\n",
       "      <th>0</th>\n",
       "      <td></td>\n",
       "      <td></td>\n",
       "      <td>404</td>\n",
       "      <td></td>\n",
       "      <td>False</td>\n",
       "      <td>1-28-07 cash deposits</td>\n",
       "      <td></td>\n",
       "      <td>il</td>\n",
       "      <td></td>\n",
       "    </tr>\n",
       "    <tr>\n",
       "      <th>1</th>\n",
       "      <td>59 magnolia dr.</td>\n",
       "      <td>belleville</td>\n",
       "      <td>422</td>\n",
       "      <td></td>\n",
       "      <td>False</td>\n",
       "      <td>12 congressional district afl-cio cope cont. fund</td>\n",
       "      <td></td>\n",
       "      <td>il</td>\n",
       "      <td>62221</td>\n",
       "    </tr>\n",
       "    <tr>\n",
       "      <th>2</th>\n",
       "      <td>1420 west lexington partnership</td>\n",
       "      <td>chicago</td>\n",
       "      <td>616</td>\n",
       "      <td></td>\n",
       "      <td>False</td>\n",
       "      <td>1420 west lexington partnership</td>\n",
       "      <td></td>\n",
       "      <td>il</td>\n",
       "      <td>60607</td>\n",
       "    </tr>\n",
       "    <tr>\n",
       "      <th>3</th>\n",
       "      <td>8150 s kedzie ave</td>\n",
       "      <td>chicago</td>\n",
       "      <td>988</td>\n",
       "      <td></td>\n",
       "      <td>False</td>\n",
       "      <td>18th ward democratic org</td>\n",
       "      <td></td>\n",
       "      <td>il</td>\n",
       "      <td>60652</td>\n",
       "    </tr>\n",
       "    <tr>\n",
       "      <th>4</th>\n",
       "      <td>126 e. 35th street</td>\n",
       "      <td>chicago</td>\n",
       "      <td>2158</td>\n",
       "      <td></td>\n",
       "      <td>False</td>\n",
       "      <td>35th &amp; indiana currency exchange</td>\n",
       "      <td></td>\n",
       "      <td>il</td>\n",
       "      <td>60616</td>\n",
       "    </tr>\n",
       "  </tbody>\n",
       "</table>\n",
       "</div>"
      ],
      "text/plain": [
       "                           address        city  donor_id employer  is_person  \\\n",
       "0                                                    404               False   \n",
       "1                  59 magnolia dr.  belleville       422               False   \n",
       "2  1420 west lexington partnership     chicago       616               False   \n",
       "3                8150 s kedzie ave     chicago       988               False   \n",
       "4               126 e. 35th street     chicago      2158               False   \n",
       "\n",
       "                                                name occupation state    zip  \n",
       "0                              1-28-07 cash deposits               il         \n",
       "1  12 congressional district afl-cio cope cont. fund               il  62221  \n",
       "2                    1420 west lexington partnership               il  60607  \n",
       "3                           18th ward democratic org               il  60652  \n",
       "4                   35th & indiana currency exchange               il  60616  "
      ]
     },
     "execution_count": 8,
     "metadata": {},
     "output_type": "execute_result"
    }
   ],
   "source": [
    "donors = [] \n",
    "for row, record in tqdm.tqdm(raw_donors.iterrows(), total=raw_donors.shape[0]):\n",
    "    donors.append(transform(record))\n",
    "donors = pd.DataFrame(donors)\n",
    "donors.head()"
   ]
  },
  {
   "cell_type": "markdown",
   "metadata": {
    "colab_type": "text",
    "id": "ff7JI3Qr7NCd"
   },
   "source": [
    "## Comparing duplicated donor data\n",
    "- - -"
   ]
  },
  {
   "cell_type": "code",
   "execution_count": 9,
   "metadata": {
    "colab": {},
    "colab_type": "code",
    "id": "PKtPiHwNzgSY"
   },
   "outputs": [],
   "source": [
    "def comparator(record_a, record_b):\n",
    "  \"\"\"\n",
    "  Compares one field to another, using a series of distance metrics.\n",
    "  \"\"\"  \n",
    "  return {\n",
    "    'donor_id1': record_a.donor_id,\n",
    "    'donor_id2': record_b.donor_id,\n",
    "    # name\n",
    "    'jaro_name': jf.jaro_winkler(record_a['name'], record_b['name']),\n",
    "    'phonetic_name': jf.match_rating_comparison(record_a['name'], record_b['name']),\n",
    "    'damerau_name': jf.damerau_levenshtein_distance(record_a['name'], record_b['name']),\n",
    "    # address  \n",
    "    'jaro_address': jf.jaro_winkler(record_a['address'], record_b['address']),\n",
    "    'phonetic_address': jf.match_rating_comparison(record_a['address'], record_b['address']),  \n",
    "    'damerau_address': jf.damerau_levenshtein_distance(record_a['address'], record_b['address']),  \n",
    "  }\n"
   ]
  },
  {
   "cell_type": "code",
   "execution_count": 10,
   "metadata": {
    "colab": {
     "base_uri": "https://localhost:8080/",
     "height": 34
    },
    "colab_type": "code",
    "id": "cVUhQvYlurLV",
    "outputId": "6a63ac0d-4746-41b1-bd16-85dc0d6645a6"
   },
   "outputs": [
    {
     "name": "stderr",
     "output_type": "stream",
     "text": [
      "100%|██████████| 726/726 [04:51<00:00,  2.56it/s]\n"
     ]
    }
   ],
   "source": [
    "distance_table = []\n",
    "for row_a, record_a in tqdm.tqdm(donors.iterrows(), total=donors.shape[0]):\n",
    "      for row_b, record_b in donors.iterrows():\n",
    "            if row_a == row_b: continue    \n",
    "            distance_table.append(comparator(record_a, record_b)) \n",
    "distance_table = pd.DataFrame(distance_table)"
   ]
  },
  {
   "cell_type": "code",
   "execution_count": 11,
   "metadata": {
    "colab": {},
    "colab_type": "code",
    "id": "mwTgcVmh3fNJ"
   },
   "outputs": [],
   "source": [
    "distance_table = distance_table.sort_values(by='jaro_name', ascending=False)"
   ]
  },
  {
   "cell_type": "code",
   "execution_count": 99,
   "metadata": {
    "colab": {
     "base_uri": "https://localhost:8080/",
     "height": 119
    },
    "colab_type": "code",
    "id": "5Acutg1Vp5_F",
    "outputId": "d3045071-112c-4e30-a391-023ed6498cc0"
   },
   "outputs": [
    {
     "name": "stdout",
     "output_type": "stream",
     "text": [
      "\n",
      " jaro_name    :0.6725895863395869\n",
      " jaro_address :0.7111111111111111\n",
      " damerau_name    :9.0\n",
      " damerau_address :9.0\n",
      "\n"
     ]
    }
   ],
   "source": [
    "print(f\"\"\"\n",
    " jaro_name    :{distance_table['jaro_name'].quantile(0.99)}\n",
    " jaro_address :{distance_table['jaro_address'].quantile(0.99)}\n",
    " damerau_name    :{distance_table['damerau_name'].quantile(0.01)}\n",
    " damerau_address :{distance_table['damerau_address'].quantile(0.01)}\n",
    "\"\"\") "
   ]
  },
  {
   "cell_type": "code",
   "execution_count": 100,
   "metadata": {
    "colab": {},
    "colab_type": "code",
    "id": "Iz0Dn-nXfusQ"
   },
   "outputs": [],
   "source": [
    "def baseline_classifier(record):\n",
    "    \"\"\"\n",
    "    Simple voting classifier.\n",
    "    * assumes an equal weighting for the different types of distance metrics. \n",
    "    \"\"\"\n",
    "    votes = [\n",
    "        record['jaro_name'] > 0.6725,\n",
    "        record['jaro_address'] > 0.7111,\n",
    "        record['damerau_name'] < 9,\n",
    "        record['damerau_address'] < 9]\n",
    "    return np.mean(votes)    "
   ]
  },
  {
   "cell_type": "code",
   "execution_count": 101,
   "metadata": {
    "colab": {
     "base_uri": "https://localhost:8080/",
     "height": 34
    },
    "colab_type": "code",
    "id": "92RkM_Ifu8pb",
    "outputId": "7574bbb4-1c7d-40da-8e08-68d8ee3aa664"
   },
   "outputs": [
    {
     "name": "stderr",
     "output_type": "stream",
     "text": [
      "100%|██████████| 526350/526350 [02:53<00:00, 3034.53it/s]\n"
     ]
    }
   ],
   "source": [
    "classification_column = []\n",
    "for row, record in tqdm.tqdm(distance_table.iterrows(), total=distance_table.shape[0]):\n",
    "    classification_column.append(baseline_classifier(record))"
   ]
  },
  {
   "cell_type": "code",
   "execution_count": null,
   "metadata": {
    "colab": {
     "base_uri": "https://localhost:8080/",
     "height": 350
    },
    "colab_type": "code",
    "id": "5kQa0TrH4MFm",
    "outputId": "3e9bf04f-1c91-4617-94e6-df5fe8263878"
   },
   "outputs": [],
   "source": [
    "distance_table['duplicate'] = np.array(classification_column) > 0.75\n",
    "distance_table['duplicate_score'] = np.array(classification_column)"
   ]
  },
  {
   "cell_type": "markdown",
   "metadata": {
    "colab_type": "text",
    "id": "46alejqTRH35"
   },
   "source": [
    "## Clustering\n",
    "- - -\n",
    "\n",
    "Using a \"greedy\" clustering algorithm we can form a distinct set of clustered records. We restrict the donors to one distinct cluster and ignore potential overlaps. "
   ]
  },
  {
   "cell_type": "code",
   "execution_count": 199,
   "metadata": {
    "colab": {},
    "colab_type": "code",
    "id": "orohKSum5tCI"
   },
   "outputs": [],
   "source": [
    "redux = distance_table[['donor_id1', 'donor_id2', 'duplicate', 'duplicate_score']]\n",
    "\n",
    "donor_map = {}\n",
    "\n",
    "duplicates = set([])\n",
    "\n",
    "for donor_id, frame in redux.groupby(['donor_id1']):\n",
    "  \n",
    "    if donor_id in duplicates: continue\n",
    "    # Form a unique identifier\n",
    "    cluster_id = str(uuid.uuid4())\n",
    "    donor_map[donor_id] = cluster_id\n",
    "  \n",
    "    # Map the donor_ids in the cluster to the same cluster identifier\n",
    "    for matched_donor in frame[frame['duplicate']]['donor_id2']:\n",
    "        donor_map[matched_donor] = cluster_id\n",
    "        duplicates.add(matched_donor)"
   ]
  },
  {
   "cell_type": "markdown",
   "metadata": {
    "colab_type": "text",
    "id": "Dz1y6w_vbPLJ"
   },
   "source": [
    "After forming a new identifier for clusters we can add them to the donor and donation tables."
   ]
  },
  {
   "cell_type": "code",
   "execution_count": 200,
   "metadata": {
    "colab": {},
    "colab_type": "code",
    "id": "mY2f2FQ2bN_M"
   },
   "outputs": [],
   "source": [
    "raw_donations['cluster_id'] = raw_donations['donor_id'].apply(lambda x: donor_map[x])\n",
    "\n",
    "donors['cluster_id'] = donors['donor_id'].apply(lambda x: donor_map[x])"
   ]
  },
  {
   "cell_type": "markdown",
   "metadata": {},
   "source": [
    "Using the **cluster identifier** we can now start to look at donations from the same linked individual, for example if we look at records where total donations exceeded $2000:"
   ]
  },
  {
   "cell_type": "code",
   "execution_count": 219,
   "metadata": {},
   "outputs": [
    {
     "data": {
      "text/html": [
       "<hr>"
      ],
      "text/plain": [
       "<IPython.core.display.HTML object>"
      ]
     },
     "metadata": {},
     "output_type": "display_data"
    },
    {
     "data": {
      "text/html": [
       "<h4>Totoal donations: $2427.95</h4>"
      ],
      "text/plain": [
       "<IPython.core.display.HTML object>"
      ]
     },
     "metadata": {},
     "output_type": "display_data"
    },
    {
     "data": {
      "text/html": [
       "<div>\n",
       "<style scoped>\n",
       "    .dataframe tbody tr th:only-of-type {\n",
       "        vertical-align: middle;\n",
       "    }\n",
       "\n",
       "    .dataframe tbody tr th {\n",
       "        vertical-align: top;\n",
       "    }\n",
       "\n",
       "    .dataframe thead th {\n",
       "        text-align: right;\n",
       "    }\n",
       "</style>\n",
       "<table border=\"1\" class=\"dataframe\">\n",
       "  <thead>\n",
       "    <tr style=\"text-align: right;\">\n",
       "      <th></th>\n",
       "      <th>donor_id</th>\n",
       "      <th>amount</th>\n",
       "      <th>cluster_id</th>\n",
       "    </tr>\n",
       "  </thead>\n",
       "  <tbody>\n",
       "    <tr>\n",
       "      <th>1113</th>\n",
       "      <td>257166</td>\n",
       "      <td>200.00</td>\n",
       "      <td>16eb2413-64ec-4dd0-a174-8b8fa819941a</td>\n",
       "    </tr>\n",
       "    <tr>\n",
       "      <th>1148</th>\n",
       "      <td>257172</td>\n",
       "      <td>500.00</td>\n",
       "      <td>16eb2413-64ec-4dd0-a174-8b8fa819941a</td>\n",
       "    </tr>\n",
       "    <tr>\n",
       "      <th>1079</th>\n",
       "      <td>257172</td>\n",
       "      <td>1380.00</td>\n",
       "      <td>16eb2413-64ec-4dd0-a174-8b8fa819941a</td>\n",
       "    </tr>\n",
       "    <tr>\n",
       "      <th>1147</th>\n",
       "      <td>257172</td>\n",
       "      <td>250.00</td>\n",
       "      <td>16eb2413-64ec-4dd0-a174-8b8fa819941a</td>\n",
       "    </tr>\n",
       "    <tr>\n",
       "      <th>1080</th>\n",
       "      <td>257172</td>\n",
       "      <td>97.95</td>\n",
       "      <td>16eb2413-64ec-4dd0-a174-8b8fa819941a</td>\n",
       "    </tr>\n",
       "  </tbody>\n",
       "</table>\n",
       "</div>"
      ],
      "text/plain": [
       "      donor_id   amount                            cluster_id\n",
       "1113    257166   200.00  16eb2413-64ec-4dd0-a174-8b8fa819941a\n",
       "1148    257172   500.00  16eb2413-64ec-4dd0-a174-8b8fa819941a\n",
       "1079    257172  1380.00  16eb2413-64ec-4dd0-a174-8b8fa819941a\n",
       "1147    257172   250.00  16eb2413-64ec-4dd0-a174-8b8fa819941a\n",
       "1080    257172    97.95  16eb2413-64ec-4dd0-a174-8b8fa819941a"
      ]
     },
     "metadata": {},
     "output_type": "display_data"
    },
    {
     "data": {
      "text/html": [
       "<h4>Linked records: <h4>"
      ],
      "text/plain": [
       "<IPython.core.display.HTML object>"
      ]
     },
     "metadata": {},
     "output_type": "display_data"
    },
    {
     "data": {
      "text/html": [
       "<div>\n",
       "<style scoped>\n",
       "    .dataframe tbody tr th:only-of-type {\n",
       "        vertical-align: middle;\n",
       "    }\n",
       "\n",
       "    .dataframe tbody tr th {\n",
       "        vertical-align: top;\n",
       "    }\n",
       "\n",
       "    .dataframe thead th {\n",
       "        text-align: right;\n",
       "    }\n",
       "</style>\n",
       "<table border=\"1\" class=\"dataframe\">\n",
       "  <thead>\n",
       "    <tr style=\"text-align: right;\">\n",
       "      <th></th>\n",
       "      <th>address</th>\n",
       "      <th>city</th>\n",
       "      <th>donor_id</th>\n",
       "      <th>employer</th>\n",
       "      <th>is_person</th>\n",
       "      <th>name</th>\n",
       "      <th>occupation</th>\n",
       "      <th>state</th>\n",
       "      <th>zip</th>\n",
       "      <th>cluster_id</th>\n",
       "    </tr>\n",
       "  </thead>\n",
       "  <tbody>\n",
       "    <tr>\n",
       "      <th>273</th>\n",
       "      <td>107 w. cook</td>\n",
       "      <td>springfield</td>\n",
       "      <td>257166</td>\n",
       "      <td></td>\n",
       "      <td>False</td>\n",
       "      <td>planned parenthood votes illinois</td>\n",
       "      <td></td>\n",
       "      <td>il</td>\n",
       "      <td>62704</td>\n",
       "      <td>16eb2413-64ec-4dd0-a174-8b8fa819941a</td>\n",
       "    </tr>\n",
       "    <tr>\n",
       "      <th>274</th>\n",
       "      <td>107 w. cook ste. f</td>\n",
       "      <td>springfield</td>\n",
       "      <td>257172</td>\n",
       "      <td></td>\n",
       "      <td>False</td>\n",
       "      <td>planned parenthood votes illinois</td>\n",
       "      <td></td>\n",
       "      <td>il</td>\n",
       "      <td>62704</td>\n",
       "      <td>16eb2413-64ec-4dd0-a174-8b8fa819941a</td>\n",
       "    </tr>\n",
       "  </tbody>\n",
       "</table>\n",
       "</div>"
      ],
      "text/plain": [
       "                address         city  donor_id employer  is_person  \\\n",
       "273         107 w. cook  springfield    257166               False   \n",
       "274  107 w. cook ste. f  springfield    257172               False   \n",
       "\n",
       "                                  name occupation state    zip  \\\n",
       "273  planned parenthood votes illinois               il  62704   \n",
       "274  planned parenthood votes illinois               il  62704   \n",
       "\n",
       "                               cluster_id  \n",
       "273  16eb2413-64ec-4dd0-a174-8b8fa819941a  \n",
       "274  16eb2413-64ec-4dd0-a174-8b8fa819941a  "
      ]
     },
     "metadata": {},
     "output_type": "display_data"
    },
    {
     "data": {
      "text/html": [
       "<hr>"
      ],
      "text/plain": [
       "<IPython.core.display.HTML object>"
      ]
     },
     "metadata": {},
     "output_type": "display_data"
    },
    {
     "data": {
      "text/html": [
       "<h4>Totoal donations: $18100.0</h4>"
      ],
      "text/plain": [
       "<IPython.core.display.HTML object>"
      ]
     },
     "metadata": {},
     "output_type": "display_data"
    },
    {
     "data": {
      "text/html": [
       "<div>\n",
       "<style scoped>\n",
       "    .dataframe tbody tr th:only-of-type {\n",
       "        vertical-align: middle;\n",
       "    }\n",
       "\n",
       "    .dataframe tbody tr th {\n",
       "        vertical-align: top;\n",
       "    }\n",
       "\n",
       "    .dataframe thead th {\n",
       "        text-align: right;\n",
       "    }\n",
       "</style>\n",
       "<table border=\"1\" class=\"dataframe\">\n",
       "  <thead>\n",
       "    <tr style=\"text-align: right;\">\n",
       "      <th></th>\n",
       "      <th>donor_id</th>\n",
       "      <th>amount</th>\n",
       "      <th>cluster_id</th>\n",
       "    </tr>\n",
       "  </thead>\n",
       "  <tbody>\n",
       "    <tr>\n",
       "      <th>1513</th>\n",
       "      <td>119305</td>\n",
       "      <td>450.0</td>\n",
       "      <td>cd13db10-8785-4c2e-bce3-9d1fef75932a</td>\n",
       "    </tr>\n",
       "    <tr>\n",
       "      <th>588</th>\n",
       "      <td>119314</td>\n",
       "      <td>4000.0</td>\n",
       "      <td>cd13db10-8785-4c2e-bce3-9d1fef75932a</td>\n",
       "    </tr>\n",
       "    <tr>\n",
       "      <th>833</th>\n",
       "      <td>119314</td>\n",
       "      <td>1000.0</td>\n",
       "      <td>cd13db10-8785-4c2e-bce3-9d1fef75932a</td>\n",
       "    </tr>\n",
       "    <tr>\n",
       "      <th>694</th>\n",
       "      <td>119314</td>\n",
       "      <td>5000.0</td>\n",
       "      <td>cd13db10-8785-4c2e-bce3-9d1fef75932a</td>\n",
       "    </tr>\n",
       "    <tr>\n",
       "      <th>854</th>\n",
       "      <td>119314</td>\n",
       "      <td>1400.0</td>\n",
       "      <td>cd13db10-8785-4c2e-bce3-9d1fef75932a</td>\n",
       "    </tr>\n",
       "    <tr>\n",
       "      <th>834</th>\n",
       "      <td>119314</td>\n",
       "      <td>5000.0</td>\n",
       "      <td>cd13db10-8785-4c2e-bce3-9d1fef75932a</td>\n",
       "    </tr>\n",
       "    <tr>\n",
       "      <th>711</th>\n",
       "      <td>119314</td>\n",
       "      <td>1000.0</td>\n",
       "      <td>cd13db10-8785-4c2e-bce3-9d1fef75932a</td>\n",
       "    </tr>\n",
       "    <tr>\n",
       "      <th>816</th>\n",
       "      <td>119314</td>\n",
       "      <td>250.0</td>\n",
       "      <td>cd13db10-8785-4c2e-bce3-9d1fef75932a</td>\n",
       "    </tr>\n",
       "  </tbody>\n",
       "</table>\n",
       "</div>"
      ],
      "text/plain": [
       "      donor_id  amount                            cluster_id\n",
       "1513    119305   450.0  cd13db10-8785-4c2e-bce3-9d1fef75932a\n",
       "588     119314  4000.0  cd13db10-8785-4c2e-bce3-9d1fef75932a\n",
       "833     119314  1000.0  cd13db10-8785-4c2e-bce3-9d1fef75932a\n",
       "694     119314  5000.0  cd13db10-8785-4c2e-bce3-9d1fef75932a\n",
       "854     119314  1400.0  cd13db10-8785-4c2e-bce3-9d1fef75932a\n",
       "834     119314  5000.0  cd13db10-8785-4c2e-bce3-9d1fef75932a\n",
       "711     119314  1000.0  cd13db10-8785-4c2e-bce3-9d1fef75932a\n",
       "816     119314   250.0  cd13db10-8785-4c2e-bce3-9d1fef75932a"
      ]
     },
     "metadata": {},
     "output_type": "display_data"
    },
    {
     "data": {
      "text/html": [
       "<h4>Linked records: <h4>"
      ],
      "text/plain": [
       "<IPython.core.display.HTML object>"
      ]
     },
     "metadata": {},
     "output_type": "display_data"
    },
    {
     "data": {
      "text/html": [
       "<div>\n",
       "<style scoped>\n",
       "    .dataframe tbody tr th:only-of-type {\n",
       "        vertical-align: middle;\n",
       "    }\n",
       "\n",
       "    .dataframe tbody tr th {\n",
       "        vertical-align: top;\n",
       "    }\n",
       "\n",
       "    .dataframe thead th {\n",
       "        text-align: right;\n",
       "    }\n",
       "</style>\n",
       "<table border=\"1\" class=\"dataframe\">\n",
       "  <thead>\n",
       "    <tr style=\"text-align: right;\">\n",
       "      <th></th>\n",
       "      <th>address</th>\n",
       "      <th>city</th>\n",
       "      <th>donor_id</th>\n",
       "      <th>employer</th>\n",
       "      <th>is_person</th>\n",
       "      <th>name</th>\n",
       "      <th>occupation</th>\n",
       "      <th>state</th>\n",
       "      <th>zip</th>\n",
       "      <th>cluster_id</th>\n",
       "    </tr>\n",
       "  </thead>\n",
       "  <tbody>\n",
       "    <tr>\n",
       "      <th>126</th>\n",
       "      <td>825 midway drive</td>\n",
       "      <td>wilowbrook</td>\n",
       "      <td>119305</td>\n",
       "      <td></td>\n",
       "      <td>False</td>\n",
       "      <td>frank novotny &amp; associates</td>\n",
       "      <td></td>\n",
       "      <td>il</td>\n",
       "      <td>60527</td>\n",
       "      <td>cd13db10-8785-4c2e-bce3-9d1fef75932a</td>\n",
       "    </tr>\n",
       "    <tr>\n",
       "      <th>127</th>\n",
       "      <td>825 midway drive</td>\n",
       "      <td>willowbrook</td>\n",
       "      <td>119314</td>\n",
       "      <td></td>\n",
       "      <td>False</td>\n",
       "      <td>frank novotny &amp; assoc. inc.</td>\n",
       "      <td></td>\n",
       "      <td>il</td>\n",
       "      <td>60521</td>\n",
       "      <td>cd13db10-8785-4c2e-bce3-9d1fef75932a</td>\n",
       "    </tr>\n",
       "  </tbody>\n",
       "</table>\n",
       "</div>"
      ],
      "text/plain": [
       "              address         city  donor_id employer  is_person  \\\n",
       "126  825 midway drive   wilowbrook    119305               False   \n",
       "127  825 midway drive  willowbrook    119314               False   \n",
       "\n",
       "                            name occupation state    zip  \\\n",
       "126   frank novotny & associates               il  60527   \n",
       "127  frank novotny & assoc. inc.               il  60521   \n",
       "\n",
       "                               cluster_id  \n",
       "126  cd13db10-8785-4c2e-bce3-9d1fef75932a  \n",
       "127  cd13db10-8785-4c2e-bce3-9d1fef75932a  "
      ]
     },
     "metadata": {},
     "output_type": "display_data"
    }
   ],
   "source": [
    "for cluster, frame in raw_donations.groupby('cluster_id'):\n",
    "    if (frame.amount.sum() > 2000) & (len(frame.donor_id.unique()) > 1):\n",
    "        display(HTML('<hr>'))\n",
    "        display(HTML(f'<h4>Totoal donations: ${frame.amount.sum()}</h4>'))\n",
    "        display(frame)\n",
    "        display(HTML(f'<h4>Linked records: <h4>'))\n",
    "        display(donors[donors.cluster_id == cluster])  "
   ]
  },
  {
   "cell_type": "markdown",
   "metadata": {
    "colab_type": "text",
    "id": "1RY85x-0YyrF"
   },
   "source": [
    "## Solving the problem (reduced set)\n",
    "\n",
    "- - - \n",
    "\n",
    "On the reduced dataset using the **donor identifier**:"
   ]
  },
  {
   "cell_type": "code",
   "execution_count": 202,
   "metadata": {
    "colab": {
     "base_uri": "https://localhost:8080/",
     "height": 359
    },
    "colab_type": "code",
    "id": "V1DBjsmqY4W7",
    "outputId": "06d19e2d-9cbf-4e7c-8d51-cd10c789632d"
   },
   "outputs": [
    {
     "data": {
      "text/html": [
       "<div>\n",
       "<style scoped>\n",
       "    .dataframe tbody tr th:only-of-type {\n",
       "        vertical-align: middle;\n",
       "    }\n",
       "\n",
       "    .dataframe tbody tr th {\n",
       "        vertical-align: top;\n",
       "    }\n",
       "\n",
       "    .dataframe thead th {\n",
       "        text-align: right;\n",
       "    }\n",
       "</style>\n",
       "<table border=\"1\" class=\"dataframe\">\n",
       "  <thead>\n",
       "    <tr style=\"text-align: right;\">\n",
       "      <th></th>\n",
       "      <th>name</th>\n",
       "      <th>amount</th>\n",
       "    </tr>\n",
       "  </thead>\n",
       "  <tbody>\n",
       "    <tr>\n",
       "      <th>0</th>\n",
       "      <td>upspac</td>\n",
       "      <td>109950.00</td>\n",
       "    </tr>\n",
       "    <tr>\n",
       "      <th>1</th>\n",
       "      <td>chicago &amp; northeast il dist - carpenters pac</td>\n",
       "      <td>109000.00</td>\n",
       "    </tr>\n",
       "    <tr>\n",
       "      <th>2</th>\n",
       "      <td>kimball hill inc.</td>\n",
       "      <td>37900.00</td>\n",
       "    </tr>\n",
       "    <tr>\n",
       "      <th>3</th>\n",
       "      <td>k-five construction</td>\n",
       "      <td>32978.01</td>\n",
       "    </tr>\n",
       "    <tr>\n",
       "      <th>4</th>\n",
       "      <td>manufacturer's political action comm.</td>\n",
       "      <td>24000.00</td>\n",
       "    </tr>\n",
       "    <tr>\n",
       "      <th>5</th>\n",
       "      <td>chicago &amp; ne ii dist. council carpenters</td>\n",
       "      <td>22250.00</td>\n",
       "    </tr>\n",
       "    <tr>\n",
       "      <th>6</th>\n",
       "      <td>chicago fire fighters union</td>\n",
       "      <td>21200.00</td>\n",
       "    </tr>\n",
       "    <tr>\n",
       "      <th>7</th>\n",
       "      <td>stroger citizens for</td>\n",
       "      <td>18500.00</td>\n",
       "    </tr>\n",
       "    <tr>\n",
       "      <th>8</th>\n",
       "      <td>frank novotny &amp; assoc. inc.</td>\n",
       "      <td>17650.00</td>\n",
       "    </tr>\n",
       "    <tr>\n",
       "      <th>9</th>\n",
       "      <td>rosemont leasing</td>\n",
       "      <td>17290.00</td>\n",
       "    </tr>\n",
       "  </tbody>\n",
       "</table>\n",
       "</div>"
      ],
      "text/plain": [
       "                                           name     amount\n",
       "0                                        upspac  109950.00\n",
       "1  chicago & northeast il dist - carpenters pac  109000.00\n",
       "2                             kimball hill inc.   37900.00\n",
       "3                           k-five construction   32978.01\n",
       "4         manufacturer's political action comm.   24000.00\n",
       "5      chicago & ne ii dist. council carpenters   22250.00\n",
       "6                   chicago fire fighters union   21200.00\n",
       "7                          stroger citizens for   18500.00\n",
       "8                   frank novotny & assoc. inc.   17650.00\n",
       "9                              rosemont leasing   17290.00"
      ]
     },
     "execution_count": 202,
     "metadata": {},
     "output_type": "execute_result"
    }
   ],
   "source": [
    "top_donations = raw_donations.pivot_table(index='donor_id', aggfunc=sum)[['amount']].sort_values('amount', ascending=False).head(10).reset_index()\n",
    "\n",
    "pd.merge(top_donations, donors, on='donor_id')[['name', 'amount']].head(10)"
   ]
  },
  {
   "cell_type": "markdown",
   "metadata": {
    "colab_type": "text",
    "id": "_X2o2e9eZgom"
   },
   "source": [
    "On the reduced dataset using the newly formed **cluster identifier**:"
   ]
  },
  {
   "cell_type": "code",
   "execution_count": 203,
   "metadata": {
    "colab": {
     "base_uri": "https://localhost:8080/",
     "height": 359
    },
    "colab_type": "code",
    "id": "Jj2bLXie-Yzq",
    "outputId": "1cf73dca-fd02-4691-93da-4eaea2e3e15c"
   },
   "outputs": [
    {
     "data": {
      "text/html": [
       "<div>\n",
       "<style scoped>\n",
       "    .dataframe tbody tr th:only-of-type {\n",
       "        vertical-align: middle;\n",
       "    }\n",
       "\n",
       "    .dataframe tbody tr th {\n",
       "        vertical-align: top;\n",
       "    }\n",
       "\n",
       "    .dataframe thead th {\n",
       "        text-align: right;\n",
       "    }\n",
       "</style>\n",
       "<table border=\"1\" class=\"dataframe\">\n",
       "  <thead>\n",
       "    <tr style=\"text-align: right;\">\n",
       "      <th></th>\n",
       "      <th>name</th>\n",
       "      <th>amount</th>\n",
       "    </tr>\n",
       "  </thead>\n",
       "  <tbody>\n",
       "    <tr>\n",
       "      <th>0</th>\n",
       "      <td>upspac</td>\n",
       "      <td>109950.00</td>\n",
       "    </tr>\n",
       "    <tr>\n",
       "      <th>1</th>\n",
       "      <td>chicago &amp; northeast il dist - carpenters pac</td>\n",
       "      <td>109000.00</td>\n",
       "    </tr>\n",
       "    <tr>\n",
       "      <th>2</th>\n",
       "      <td>kimball hill inc.</td>\n",
       "      <td>37900.00</td>\n",
       "    </tr>\n",
       "    <tr>\n",
       "      <th>3</th>\n",
       "      <td>k-five construction</td>\n",
       "      <td>32978.01</td>\n",
       "    </tr>\n",
       "    <tr>\n",
       "      <th>4</th>\n",
       "      <td>manufacturer's political action comm.</td>\n",
       "      <td>24000.00</td>\n",
       "    </tr>\n",
       "    <tr>\n",
       "      <th>5</th>\n",
       "      <td>chicago &amp; ne ii dist. council carpenters</td>\n",
       "      <td>22250.00</td>\n",
       "    </tr>\n",
       "    <tr>\n",
       "      <th>6</th>\n",
       "      <td>chicago fire fighters union</td>\n",
       "      <td>21200.00</td>\n",
       "    </tr>\n",
       "    <tr>\n",
       "      <th>7</th>\n",
       "      <td>stroger citizens for</td>\n",
       "      <td>18500.00</td>\n",
       "    </tr>\n",
       "    <tr>\n",
       "      <th>8</th>\n",
       "      <td>frank novotny &amp; associates</td>\n",
       "      <td>18100.00</td>\n",
       "    </tr>\n",
       "    <tr>\n",
       "      <th>9</th>\n",
       "      <td>frank novotny &amp; assoc. inc.</td>\n",
       "      <td>18100.00</td>\n",
       "    </tr>\n",
       "  </tbody>\n",
       "</table>\n",
       "</div>"
      ],
      "text/plain": [
       "                                           name     amount\n",
       "0                                        upspac  109950.00\n",
       "1  chicago & northeast il dist - carpenters pac  109000.00\n",
       "2                             kimball hill inc.   37900.00\n",
       "3                           k-five construction   32978.01\n",
       "4         manufacturer's political action comm.   24000.00\n",
       "5      chicago & ne ii dist. council carpenters   22250.00\n",
       "6                   chicago fire fighters union   21200.00\n",
       "7                          stroger citizens for   18500.00\n",
       "8                    frank novotny & associates   18100.00\n",
       "9                   frank novotny & assoc. inc.   18100.00"
      ]
     },
     "execution_count": 203,
     "metadata": {},
     "output_type": "execute_result"
    }
   ],
   "source": [
    "top_donations = raw_donations.pivot_table(index='cluster_id', aggfunc=sum)[['amount']].sort_values('amount', ascending=False).head(10).reset_index()\n",
    "\n",
    "pd.merge(top_donations, donors, on='cluster_id')[['name', 'amount']].head(10)"
   ]
  }
 ],
 "metadata": {
  "colab": {
   "collapsed_sections": [],
   "include_colab_link": true,
   "name": "Record link",
   "provenance": [],
   "toc_visible": true,
   "version": "0.3.2"
  },
  "kernelspec": {
   "display_name": "Python 3",
   "language": "python",
   "name": "python3"
  },
  "language_info": {
   "codemirror_mode": {
    "name": "ipython",
    "version": 3
   },
   "file_extension": ".py",
   "mimetype": "text/x-python",
   "name": "python",
   "nbconvert_exporter": "python",
   "pygments_lexer": "ipython3",
   "version": "3.7.1"
  }
 },
 "nbformat": 4,
 "nbformat_minor": 2
}
