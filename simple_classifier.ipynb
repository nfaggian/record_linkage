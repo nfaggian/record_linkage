{
 "cells": [
  {
   "cell_type": "markdown",
   "metadata": {
    "colab_type": "text",
    "id": "view-in-github"
   },
   "source": [
    "<a href=\"https://colab.research.google.com/github/nfaggian/record_linkage/blob/master/simple_classifier.ipynb\" target=\"_parent\"><img src=\"https://colab.research.google.com/assets/colab-badge.svg\" alt=\"Open In Colab\"/></a>"
   ]
  },
  {
   "cell_type": "markdown",
   "metadata": {
    "colab_type": "text",
    "id": "kqsqWhzF7-Wv"
   },
   "source": [
    "# Record linkage: Simple classifier"
   ]
  },
  {
   "cell_type": "code",
   "execution_count": 1,
   "metadata": {
    "colab": {
     "base_uri": "https://localhost:8080/",
     "height": 207
    },
    "colab_type": "code",
    "id": "ctcFUIaQhhit",
    "outputId": "86dfe6be-e0e1-414d-e5ea-cb952471e095"
   },
   "outputs": [],
   "source": [
    "%%capture dependency_log\n",
    "!pip install jellyfish tqdm matplotlib"
   ]
  },
  {
   "cell_type": "code",
   "execution_count": 2,
   "metadata": {
    "colab": {},
    "colab_type": "code",
    "id": "3fgf52PpvlYX"
   },
   "outputs": [],
   "source": [
    "import numpy as np\n",
    "import pandas as pd\n",
    "import tqdm\n",
    "\n",
    "import uuid\n",
    "\n",
    "import jellyfish as jf\n",
    "import matplotlib.pyplot as plt\n",
    "import seaborn as sns\n",
    "\n",
    "from IPython.display import HTML, display, clear_output"
   ]
  },
  {
   "cell_type": "markdown",
   "metadata": {
    "colab_type": "text",
    "id": "tBYoDfVO0CZL"
   },
   "source": [
    "## GCP authentication\n",
    "- - - "
   ]
  },
  {
   "cell_type": "code",
   "execution_count": 3,
   "metadata": {
    "colab": {
     "base_uri": "https://localhost:8080/",
     "height": 34
    },
    "colab_type": "code",
    "id": "jn-bjFhHzgP2",
    "outputId": "b29c129e-b488-4a6c-cf8a-2bf2f5229049"
   },
   "outputs": [
    {
     "name": "stderr",
     "output_type": "stream",
     "text": [
      "/home/nfaggian/development/miniconda/envs/py3/lib/python3.7/site-packages/google/auth/_default.py:66: UserWarning: Your application has authenticated using end user credentials from Google Cloud SDK. We recommend that most server applications use service accounts instead. If your application continues to use end user credentials from Cloud SDK, you might receive a \"quota exceeded\" or \"API not enabled\" error. For more information about service accounts, see https://cloud.google.com/docs/authentication/\n",
      "  warnings.warn(_CLOUD_SDK_CREDENTIALS_WARNING)\n"
     ]
    }
   ],
   "source": [
    "try: \n",
    "    from google.colab import auth\n",
    "    auth.authenticate_user()\n",
    "except:     \n",
    "    try:\n",
    "        import google.auth\n",
    "        credentials, project = google.auth.default()\n",
    "    except:\n",
    "        raise Exception('Google cloud authentication required!')"
   ]
  },
  {
   "cell_type": "code",
   "execution_count": 4,
   "metadata": {},
   "outputs": [
    {
     "name": "stdout",
     "output_type": "stream",
     "text": [
      "env: GOOGLE_CLOUD_PROJECT=anz-pso-nfaggian\n"
     ]
    }
   ],
   "source": [
    "%env GOOGLE_CLOUD_PROJECT=anz-pso-nfaggian\n",
    "\n",
    "project_id = 'anz-pso-nfaggian'"
   ]
  },
  {
   "cell_type": "markdown",
   "metadata": {
    "colab_type": "text",
    "id": "IRIu2CAk8KQZ"
   },
   "source": [
    "## Retrieve donor and contributions data"
   ]
  },
  {
   "cell_type": "code",
   "execution_count": 5,
   "metadata": {
    "colab": {
     "base_uri": "https://localhost:8080/",
     "height": 306
    },
    "colab_type": "code",
    "id": "keNF---YzgRN",
    "outputId": "c690f7b0-1f3a-40c2-e6bf-dcbec3436ca3"
   },
   "outputs": [
    {
     "name": "stderr",
     "output_type": "stream",
     "text": [
      "/home/nfaggian/development/miniconda/envs/py3/lib/python3.7/site-packages/google/auth/_default.py:66: UserWarning: Your application has authenticated using end user credentials from Google Cloud SDK. We recommend that most server applications use service accounts instead. If your application continues to use end user credentials from Cloud SDK, you might receive a \"quota exceeded\" or \"API not enabled\" error. For more information about service accounts, see https://cloud.google.com/docs/authentication/\n",
      "  warnings.warn(_CLOUD_SDK_CREDENTIALS_WARNING)\n"
     ]
    },
    {
     "name": "stdout",
     "output_type": "stream",
     "text": [
      "(726, 10)\n"
     ]
    },
    {
     "data": {
      "text/html": [
       "<div>\n",
       "<style scoped>\n",
       "    .dataframe tbody tr th:only-of-type {\n",
       "        vertical-align: middle;\n",
       "    }\n",
       "\n",
       "    .dataframe tbody tr th {\n",
       "        vertical-align: top;\n",
       "    }\n",
       "\n",
       "    .dataframe thead th {\n",
       "        text-align: right;\n",
       "    }\n",
       "</style>\n",
       "<table border=\"1\" class=\"dataframe\">\n",
       "  <thead>\n",
       "    <tr style=\"text-align: right;\">\n",
       "      <th></th>\n",
       "      <th>donor_id</th>\n",
       "      <th>last_name</th>\n",
       "      <th>first_name</th>\n",
       "      <th>address_1</th>\n",
       "      <th>address_2</th>\n",
       "      <th>city</th>\n",
       "      <th>state</th>\n",
       "      <th>zip</th>\n",
       "      <th>employer</th>\n",
       "      <th>occupation</th>\n",
       "    </tr>\n",
       "  </thead>\n",
       "  <tbody>\n",
       "    <tr>\n",
       "      <th>220</th>\n",
       "      <td>404</td>\n",
       "      <td>1-28-07 cash deposits</td>\n",
       "      <td>None</td>\n",
       "      <td>None</td>\n",
       "      <td>None</td>\n",
       "      <td>None</td>\n",
       "      <td>il</td>\n",
       "      <td>None</td>\n",
       "      <td>None</td>\n",
       "      <td>None</td>\n",
       "    </tr>\n",
       "    <tr>\n",
       "      <th>548</th>\n",
       "      <td>422</td>\n",
       "      <td>12 congressional district afl-cio cope cont. fund</td>\n",
       "      <td>None</td>\n",
       "      <td>59 magnolia dr.</td>\n",
       "      <td>None</td>\n",
       "      <td>belleville</td>\n",
       "      <td>il</td>\n",
       "      <td>62221</td>\n",
       "      <td>None</td>\n",
       "      <td>None</td>\n",
       "    </tr>\n",
       "    <tr>\n",
       "      <th>295</th>\n",
       "      <td>616</td>\n",
       "      <td>1420 west lexington partnership</td>\n",
       "      <td>None</td>\n",
       "      <td>1420 west lexington partnership</td>\n",
       "      <td>None</td>\n",
       "      <td>chicago</td>\n",
       "      <td>il</td>\n",
       "      <td>60607</td>\n",
       "      <td>None</td>\n",
       "      <td>None</td>\n",
       "    </tr>\n",
       "    <tr>\n",
       "      <th>309</th>\n",
       "      <td>988</td>\n",
       "      <td>18th ward democratic org</td>\n",
       "      <td>None</td>\n",
       "      <td>8150 s kedzie ave</td>\n",
       "      <td>None</td>\n",
       "      <td>chicago</td>\n",
       "      <td>il</td>\n",
       "      <td>60652</td>\n",
       "      <td>None</td>\n",
       "      <td>None</td>\n",
       "    </tr>\n",
       "    <tr>\n",
       "      <th>300</th>\n",
       "      <td>2158</td>\n",
       "      <td>35th &amp; indiana currency exchange</td>\n",
       "      <td>None</td>\n",
       "      <td>126 e. 35th street</td>\n",
       "      <td>None</td>\n",
       "      <td>chicago</td>\n",
       "      <td>il</td>\n",
       "      <td>60616</td>\n",
       "      <td>None</td>\n",
       "      <td>None</td>\n",
       "    </tr>\n",
       "  </tbody>\n",
       "</table>\n",
       "</div>"
      ],
      "text/plain": [
       "     donor_id                                          last_name first_name  \\\n",
       "220       404                              1-28-07 cash deposits       None   \n",
       "548       422  12 congressional district afl-cio cope cont. fund       None   \n",
       "295       616                    1420 west lexington partnership       None   \n",
       "309       988                           18th ward democratic org       None   \n",
       "300      2158                   35th & indiana currency exchange       None   \n",
       "\n",
       "                           address_1 address_2        city state    zip  \\\n",
       "220                             None      None        None    il   None   \n",
       "548                  59 magnolia dr.      None  belleville    il  62221   \n",
       "295  1420 west lexington partnership      None     chicago    il  60607   \n",
       "309                8150 s kedzie ave      None     chicago    il  60652   \n",
       "300               126 e. 35th street      None     chicago    il  60616   \n",
       "\n",
       "    employer occupation  \n",
       "220     None       None  \n",
       "548     None       None  \n",
       "295     None       None  \n",
       "309     None       None  \n",
       "300     None       None  "
      ]
     },
     "execution_count": 5,
     "metadata": {},
     "output_type": "execute_result"
    }
   ],
   "source": [
    "query = f\"\"\"\n",
    "SELECT\n",
    "  * \n",
    "FROM\n",
    "  dedup.donors\n",
    "WHERE MOD(ABS(FARM_FINGERPRINT(CAST(donor_id AS STRING))), 1000) = 0\n",
    "\"\"\"\n",
    "\n",
    "raw_donors = pd.io.gbq.read_gbq(query, project_id=project_id, dialect='standard')\n",
    "raw_donors = raw_donors.sort_values(by='donor_id')\n",
    "print(raw_donors.shape)\n",
    "raw_donors.head()"
   ]
  },
  {
   "cell_type": "markdown",
   "metadata": {
    "colab_type": "text",
    "id": "M3S1Od7i1XLi"
   },
   "source": [
    "**Data preperation**\n",
    "- - - "
   ]
  },
  {
   "cell_type": "code",
   "execution_count": 6,
   "metadata": {
    "colab": {},
    "colab_type": "code",
    "id": "V81zNQQbhrjZ"
   },
   "outputs": [],
   "source": [
    "def transform(record):\n",
    "  \"\"\"\n",
    "  Perform some simple transformations on to clean up donor data.\n",
    "  \"\"\"\n",
    "  \n",
    "  # combine the first and last name\n",
    "  return {\n",
    "      'donor_id': record.donor_id,\n",
    "          'city': f\"{record.city or ' '}\".strip().lower(),\n",
    "          'name': f\"{record.first_name or ' '} {record.last_name or ' '}\".strip().lower(),\n",
    "       'address': f\"{record.address_1 or ' '} {record.address_2 or ' '}\".strip().lower(), \n",
    "         'state': f\"{record.state or ' '}\".strip().lower(),\n",
    "           'zip': f\"{record.zip or ' '}\".strip().lower(),\n",
    "    'occupation': f\"{record.occupation or ' '}\".strip().lower(),\n",
    "      'employer': f\"{record.employer or ' '}\".strip().lower(),\n",
    "     'is_person': record.first_name is not None }"
   ]
  },
  {
   "cell_type": "code",
   "execution_count": 7,
   "metadata": {
    "colab": {
     "base_uri": "https://localhost:8080/",
     "height": 255
    },
    "colab_type": "code",
    "id": "6znMtqIlwaNO",
    "outputId": "247b39cd-cf7a-40d1-ddb4-867fdd27a35f"
   },
   "outputs": [
    {
     "name": "stderr",
     "output_type": "stream",
     "text": [
      "100%|██████████| 726/726 [00:00<00:00, 1642.29it/s]\n"
     ]
    },
    {
     "data": {
      "text/html": [
       "<div>\n",
       "<style scoped>\n",
       "    .dataframe tbody tr th:only-of-type {\n",
       "        vertical-align: middle;\n",
       "    }\n",
       "\n",
       "    .dataframe tbody tr th {\n",
       "        vertical-align: top;\n",
       "    }\n",
       "\n",
       "    .dataframe thead th {\n",
       "        text-align: right;\n",
       "    }\n",
       "</style>\n",
       "<table border=\"1\" class=\"dataframe\">\n",
       "  <thead>\n",
       "    <tr style=\"text-align: right;\">\n",
       "      <th></th>\n",
       "      <th>address</th>\n",
       "      <th>city</th>\n",
       "      <th>donor_id</th>\n",
       "      <th>employer</th>\n",
       "      <th>is_person</th>\n",
       "      <th>name</th>\n",
       "      <th>occupation</th>\n",
       "      <th>state</th>\n",
       "      <th>zip</th>\n",
       "    </tr>\n",
       "  </thead>\n",
       "  <tbody>\n",
       "    <tr>\n",
       "      <th>0</th>\n",
       "      <td></td>\n",
       "      <td></td>\n",
       "      <td>404</td>\n",
       "      <td></td>\n",
       "      <td>False</td>\n",
       "      <td>1-28-07 cash deposits</td>\n",
       "      <td></td>\n",
       "      <td>il</td>\n",
       "      <td></td>\n",
       "    </tr>\n",
       "    <tr>\n",
       "      <th>1</th>\n",
       "      <td>59 magnolia dr.</td>\n",
       "      <td>belleville</td>\n",
       "      <td>422</td>\n",
       "      <td></td>\n",
       "      <td>False</td>\n",
       "      <td>12 congressional district afl-cio cope cont. fund</td>\n",
       "      <td></td>\n",
       "      <td>il</td>\n",
       "      <td>62221</td>\n",
       "    </tr>\n",
       "    <tr>\n",
       "      <th>2</th>\n",
       "      <td>1420 west lexington partnership</td>\n",
       "      <td>chicago</td>\n",
       "      <td>616</td>\n",
       "      <td></td>\n",
       "      <td>False</td>\n",
       "      <td>1420 west lexington partnership</td>\n",
       "      <td></td>\n",
       "      <td>il</td>\n",
       "      <td>60607</td>\n",
       "    </tr>\n",
       "    <tr>\n",
       "      <th>3</th>\n",
       "      <td>8150 s kedzie ave</td>\n",
       "      <td>chicago</td>\n",
       "      <td>988</td>\n",
       "      <td></td>\n",
       "      <td>False</td>\n",
       "      <td>18th ward democratic org</td>\n",
       "      <td></td>\n",
       "      <td>il</td>\n",
       "      <td>60652</td>\n",
       "    </tr>\n",
       "    <tr>\n",
       "      <th>4</th>\n",
       "      <td>126 e. 35th street</td>\n",
       "      <td>chicago</td>\n",
       "      <td>2158</td>\n",
       "      <td></td>\n",
       "      <td>False</td>\n",
       "      <td>35th &amp; indiana currency exchange</td>\n",
       "      <td></td>\n",
       "      <td>il</td>\n",
       "      <td>60616</td>\n",
       "    </tr>\n",
       "  </tbody>\n",
       "</table>\n",
       "</div>"
      ],
      "text/plain": [
       "                           address        city  donor_id employer  is_person  \\\n",
       "0                                                    404               False   \n",
       "1                  59 magnolia dr.  belleville       422               False   \n",
       "2  1420 west lexington partnership     chicago       616               False   \n",
       "3                8150 s kedzie ave     chicago       988               False   \n",
       "4               126 e. 35th street     chicago      2158               False   \n",
       "\n",
       "                                                name occupation state    zip  \n",
       "0                              1-28-07 cash deposits               il         \n",
       "1  12 congressional district afl-cio cope cont. fund               il  62221  \n",
       "2                    1420 west lexington partnership               il  60607  \n",
       "3                           18th ward democratic org               il  60652  \n",
       "4                   35th & indiana currency exchange               il  60616  "
      ]
     },
     "execution_count": 7,
     "metadata": {},
     "output_type": "execute_result"
    }
   ],
   "source": [
    "donors = [] \n",
    "for row, record in tqdm.tqdm(raw_donors.iterrows(), total=raw_donors.shape[0]):\n",
    "    donors.append(transform(record))\n",
    "donors = pd.DataFrame(donors)\n",
    "donors.head()"
   ]
  },
  {
   "cell_type": "markdown",
   "metadata": {
    "colab_type": "text",
    "id": "ff7JI3Qr7NCd"
   },
   "source": [
    "## Comparing donors (names and addresses): forming a distance table\n",
    "- - -"
   ]
  },
  {
   "cell_type": "code",
   "execution_count": 8,
   "metadata": {
    "colab": {},
    "colab_type": "code",
    "id": "PKtPiHwNzgSY"
   },
   "outputs": [],
   "source": [
    "def comparator(record_a, record_b):\n",
    "  \"\"\"\n",
    "  Compares one field to another, using a series of distance metrics.\n",
    "  \"\"\"\n",
    "  return {\n",
    "    'donor_id1': record_a.donor_id,\n",
    "    'donor_id2': record_b.donor_id,\n",
    "    # name\n",
    "    'jaro_name': jf.jaro_winkler(record_a['name'], record_b['name']),\n",
    "    'phonetic_name': jf.match_rating_comparison(record_a['name'], record_b['name']),\n",
    "    'damerau_name': jf.damerau_levenshtein_distance(record_a['name'], record_b['name']),\n",
    "    # address  \n",
    "    'jaro_address': jf.jaro_winkler(record_a['address'], record_b['address']),\n",
    "    'phonetic_address': jf.match_rating_comparison(record_a['address'], record_b['address']),  \n",
    "    'damerau_address': jf.damerau_levenshtein_distance(record_a['address'], record_b['address']),  \n",
    "   }\n"
   ]
  },
  {
   "cell_type": "code",
   "execution_count": 107,
   "metadata": {
    "colab": {
     "base_uri": "https://localhost:8080/",
     "height": 34
    },
    "colab_type": "code",
    "id": "cVUhQvYlurLV",
    "outputId": "6a63ac0d-4746-41b1-bd16-85dc0d6645a6"
   },
   "outputs": [
    {
     "name": "stderr",
     "output_type": "stream",
     "text": [
      "100%|██████████| 726/726 [04:57<00:00,  2.66it/s]\n"
     ]
    }
   ],
   "source": [
    "distance_table = []\n",
    "for row_a, record_a in tqdm.tqdm(donors.iterrows(), total=donors.shape[0]):\n",
    "      for row_b, record_b in donors.iterrows():\n",
    "            if row_a == row_b: continue    \n",
    "            distance_table.append(comparator(record_a, record_b)) \n",
    "distance_table = pd.DataFrame(distance_table)"
   ]
  },
  {
   "cell_type": "code",
   "execution_count": 10,
   "metadata": {
    "colab": {},
    "colab_type": "code",
    "id": "mwTgcVmh3fNJ"
   },
   "outputs": [],
   "source": [
    "distance_table = distance_table.sort_values(by='jaro_name', ascending=False)"
   ]
  },
  {
   "cell_type": "markdown",
   "metadata": {
    "colab_type": "text",
    "id": "lKHyaNrZfd4H"
   },
   "source": [
    "## Building a duplicate detector\n",
    "- - -\n",
    "\n",
    "Using the metrics we just calculated - let us build a simple duplicate detector, based on the following rules:\n",
    "\n",
    "* jaro distances which are closer to 1.0 are good examples of duplicates.\n",
    "* damerau distances which are closer to zero are good example of duplicates. \n",
    "\n",
    "We can set this threshold by looking at the distribution of the distance metrics for our small dataset, under the assumption that our small sample contains some of the common errors we will see in the larger dataset."
   ]
  },
  {
   "cell_type": "code",
   "execution_count": 27,
   "metadata": {
    "colab": {
     "base_uri": "https://localhost:8080/",
     "height": 509
    },
    "colab_type": "code",
    "id": "0hQgBh_V2hDr",
    "outputId": "20e36c66-2c0d-448b-a29f-d37c382f7e9f"
   },
   "outputs": [
    {
     "data": {
      "image/png": "[encoded data removed]",
      "text/plain": [
       "<Figure size 720x576 with 4 Axes>"
      ]
     },
     "metadata": {},
     "output_type": "display_data"
    }
   ],
   "source": [
    "sns.set(style=\"whitegrid\")\n",
    "fig, ((ax1, ax2), (ax3, ax4)) = plt.subplots(2, 2, figsize=(10, 8))\n",
    "sns.despine(fig, left=True, bottom=True)\n",
    "\n",
    "sns.distplot(distance_table['jaro_name'], ax=ax1)\n",
    "ax1.set_xlabel('Jaro-Winkler (name)')\n",
    "\n",
    "sns.distplot(distance_table['damerau_name'], ax=ax2)\n",
    "ax2.set_xlabel('Damerau (name)')\n",
    "\n",
    "sns.distplot(distance_table['jaro_address'], ax=ax3)\n",
    "ax3.set_xlabel('Jaro-Winkler (address)')\n",
    "\n",
    "sns.distplot(distance_table['damerau_address'], ax=ax4);\n",
    "ax4.set_xlabel('Damerau (address)');"
   ]
  },
  {
   "cell_type": "markdown",
   "metadata": {},
   "source": [
    "Using the 99th and 1st percentiles we can setthresholds for similarity:"
   ]
  },
  {
   "cell_type": "code",
   "execution_count": 79,
   "metadata": {
    "colab": {
     "base_uri": "https://localhost:8080/",
     "height": 119
    },
    "colab_type": "code",
    "id": "5Acutg1Vp5_F",
    "outputId": "d3045071-112c-4e30-a391-023ed6498cc0"
   },
   "outputs": [
    {
     "name": "stdout",
     "output_type": "stream",
     "text": [
      "\n",
      " jaro_name    :0.6725895863395869\n",
      " jaro_address :0.7111111111111111\n",
      " damerau_name    :9.0\n",
      " damerau_address :9.0\n",
      "\n"
     ]
    }
   ],
   "source": [
    "print(f\"\"\"\n",
    " jaro_name    :{distance_table['jaro_name'].quantile(0.99)}\n",
    " jaro_address :{distance_table['jaro_address'].quantile(0.99)}\n",
    " damerau_name    :{distance_table['damerau_name'].quantile(0.01)}\n",
    " damerau_address :{distance_table['damerau_address'].quantile(0.01)}\n",
    "\"\"\") "
   ]
  },
  {
   "cell_type": "markdown",
   "metadata": {},
   "source": [
    "These thresholds correspond to the following partitionining of the subset of donor data; where **red** represents the range of observed similarity scores that represent non-duplicates and **green** represents duplicates."
   ]
  },
  {
   "cell_type": "code",
   "execution_count": 84,
   "metadata": {},
   "outputs": [
    {
     "data": {
      "text/plain": [
       "<matplotlib.patches.Polygon at 0x7a2af171b630>"
      ]
     },
     "execution_count": 84,
     "metadata": {},
     "output_type": "execute_result"
    },
    {
     "data": {
      "image/png": "[encoded data removed]",
      "text/plain": [
       "<Figure size 720x576 with 4 Axes>"
      ]
     },
     "metadata": {},
     "output_type": "display_data"
    }
   ],
   "source": [
    "sns.set(style=\"whitegrid\")\n",
    "fig, ((ax1, ax2), (ax3, ax4)) = plt.subplots(2, 2, figsize=(10, 8))\n",
    "sns.despine(fig, left=True, bottom=True)\n",
    "\n",
    "sns.distplot(distance_table['jaro_name'], ax=ax1)\n",
    "ax1.set_xlabel('Jaro-Winkler (name)')\n",
    "threshold = distance_table['jaro_name'].quantile(0.99)\n",
    "ax1.axvspan(threshold, 1.0, facecolor='g', alpha=0.25)\n",
    "ax1.axvspan(0, threshold, facecolor='r', alpha=0.25)\n",
    "\n",
    "sns.distplot(distance_table['damerau_name'], ax=ax2)\n",
    "ax2.set_xlabel('Damerau (name)')\n",
    "threshold = distance_table['damerau_name'].quantile(0.99)\n",
    "ax2.axvspan(0, threshold, facecolor='g', alpha=0.25)\n",
    "ax2.axvspan(threshold, distance_table['damerau_name'].max(), facecolor='r', alpha=0.25)\n",
    "\n",
    "sns.distplot(distance_table['jaro_address'], ax=ax3)\n",
    "ax3.set_xlabel('Jaro-Winkler (address)')\n",
    "threshold = distance_table['jaro_address'].quantile(0.99)\n",
    "ax3.axvspan(threshold, 1.0, facecolor='g', alpha=0.25)\n",
    "ax3.axvspan(0, threshold, facecolor='r', alpha=0.25)\n",
    "\n",
    "sns.distplot(distance_table['damerau_address'], ax=ax4);\n",
    "ax4.set_xlabel('Damerau (address)');\n",
    "hreshold = distance_table['damerau_address'].quantile(0.99)\n",
    "ax4.axvspan(0, threshold, facecolor='g', alpha=0.25)\n",
    "ax4.axvspan(threshold, distance_table['damerau_name'].max(), facecolor='r', alpha=0.25);"
   ]
  },
  {
   "cell_type": "markdown",
   "metadata": {
    "colab_type": "text",
    "id": "j60ufXIQ7TzM"
   },
   "source": [
    "Using the mean operator we can form a simple classifier that assumes equal importance of each distance metric:"
   ]
  },
  {
   "cell_type": "code",
   "execution_count": 86,
   "metadata": {
    "colab": {},
    "colab_type": "code",
    "id": "Iz0Dn-nXfusQ"
   },
   "outputs": [],
   "source": [
    "def baseline_classifier(record):\n",
    "    \"\"\"\n",
    "    Simple voting classifier.\n",
    "    * assumes an equal weighting for the different types of distance metrics. \n",
    "    \"\"\"\n",
    "    votes = [\n",
    "        record['jaro_name'] > 0.67258,\n",
    "        record['jaro_address'] > 0.7111,\n",
    "        record['damerau_name'] < 9,\n",
    "        record['damerau_address'] < 9]\n",
    "    return np.mean(votes)    "
   ]
  },
  {
   "cell_type": "markdown",
   "metadata": {
    "colab_type": "text",
    "id": "bFtcY9BuCMUl"
   },
   "source": [
    "## Using the duplicate detector"
   ]
  },
  {
   "cell_type": "code",
   "execution_count": 109,
   "metadata": {
    "colab": {
     "base_uri": "https://localhost:8080/",
     "height": 34
    },
    "colab_type": "code",
    "id": "92RkM_Ifu8pb",
    "outputId": "7574bbb4-1c7d-40da-8e08-68d8ee3aa664"
   },
   "outputs": [
    {
     "name": "stderr",
     "output_type": "stream",
     "text": [
      "100%|██████████| 526350/526350 [03:00<00:00, 2921.21it/s]\n"
     ]
    }
   ],
   "source": [
    "classification_column = []\n",
    "for row, record in tqdm.tqdm(distance_table.iterrows(), total=distance_table.shape[0]):\n",
    "      classification_column.append(baseline_classifier(record))"
   ]
  },
  {
   "cell_type": "code",
   "execution_count": 127,
   "metadata": {
    "colab": {
     "base_uri": "https://localhost:8080/",
     "height": 350
    },
    "colab_type": "code",
    "id": "5kQa0TrH4MFm",
    "outputId": "3e9bf04f-1c91-4617-94e6-df5fe8263878"
   },
   "outputs": [],
   "source": [
    "distance_table['duplicate'] = np.array(classification_column) > 0.75\n",
    "distance_table['duplicate_score'] = np.array(classification_column)"
   ]
  },
  {
   "cell_type": "markdown",
   "metadata": {},
   "source": [
    "What does the detector output look like for a subset of the donor data?"
   ]
  },
  {
   "cell_type": "code",
   "execution_count": 128,
   "metadata": {},
   "outputs": [
    {
     "data": {
      "image/png": "[encoded data removed]",
      "text/plain": [
       "<Figure size 1080x360 with 4 Axes>"
      ]
     },
     "metadata": {},
     "output_type": "display_data"
    }
   ],
   "source": [
    "fig, (ax1, ax2) = plt.subplots(1, 2, figsize=(15, 5))\n",
    "\n",
    "distance_matrix = distance_table.pivot('donor_id1', 'donor_id2', 'duplicate_score')\n",
    "\n",
    "sns.heatmap(distance_matrix.values[:10, :10], \n",
    "            annot=True, \n",
    "            vmin=0, \n",
    "            vmax=1, \n",
    "            yticklabels=distance_matrix.columns.values[:10],\n",
    "            xticklabels=distance_matrix.columns.values[:10],\n",
    "            ax=ax1)\n",
    "\n",
    "ax1.set_title('Donor (duplicate detector scores)')\n",
    "\n",
    "distance_matrix = distance_table.pivot('donor_id1', 'donor_id2', 'duplicate').astype(float)\n",
    "\n",
    "sns.heatmap(distance_matrix.values[:10, :10], \n",
    "            annot=True, \n",
    "            vmin=0, \n",
    "            vmax=1, \n",
    "            yticklabels=distance_matrix.columns.values[:10],\n",
    "            xticklabels=distance_matrix.columns.values[:10],\n",
    "            ax=ax2)\n",
    "\n",
    "ax2.set_title('Donor (duplicate detector)');"
   ]
  },
  {
   "cell_type": "markdown",
   "metadata": {},
   "source": [
    "How many duplicates did we detect?"
   ]
  },
  {
   "cell_type": "code",
   "execution_count": 129,
   "metadata": {},
   "outputs": [
    {
     "data": {
      "text/plain": [
       "8"
      ]
     },
     "execution_count": 129,
     "metadata": {},
     "output_type": "execute_result"
    }
   ],
   "source": [
    "distance_table.duplicate.sum()"
   ]
  },
  {
   "cell_type": "markdown",
   "metadata": {},
   "source": [
    "As a fraction of the donor subset?"
   ]
  },
  {
   "cell_type": "code",
   "execution_count": 130,
   "metadata": {},
   "outputs": [
    {
     "data": {
      "text/plain": [
       "'1.1%'"
      ]
     },
     "execution_count": 130,
     "metadata": {},
     "output_type": "execute_result"
    }
   ],
   "source": [
    "f\"{distance_table.duplicate.sum() / donors.shape[0]:2.1%}\""
   ]
  }
 ],
 "metadata": {
  "colab": {
   "collapsed_sections": [],
   "include_colab_link": true,
   "name": "Record link",
   "provenance": [],
   "toc_visible": true,
   "version": "0.3.2"
  },
  "kernelspec": {
   "display_name": "Python 3",
   "language": "python",
   "name": "python3"
  },
  "language_info": {
   "codemirror_mode": {
    "name": "ipython",
    "version": 3
   },
   "file_extension": ".py",
   "mimetype": "text/x-python",
   "name": "python",
   "nbconvert_exporter": "python",
   "pygments_lexer": "ipython3",
   "version": "3.7.1"
  }
 },
 "nbformat": 4,
 "nbformat_minor": 2
}
